{
  "nbformat": 4,
  "nbformat_minor": 0,
  "metadata": {
    "colab": {
      "provenance": []
    },
    "kernelspec": {
      "name": "python3",
      "display_name": "Python 3"
    },
    "language_info": {
      "name": "python"
    }
  },
  "cells": [
    {
      "cell_type": "markdown",
      "source": [
        "Data Analytics (CS61061), Project- DA-02,\n",
        "Name- Avik Pramanick,\n",
        "Roll No- 23CS60R78."
      ],
      "metadata": {
        "id": "4dWot3FH3IVQ"
      }
    },
    {
      "cell_type": "code",
      "execution_count": null,
      "metadata": {
        "id": "MlWm0-Ci2M0F"
      },
      "outputs": [],
      "source": [
        "import pandas as pd\n",
        "import numpy as np\n",
        "from scipy.special import erfc\n",
        "from scipy.stats import mannwhitneyu, chi2_contingency"
      ]
    },
    {
      "cell_type": "code",
      "source": [
        "# Load the dataset\n",
        "heart_data = pd.read_csv(\"/content/heart_statlog_cleveland_hungary_final.csv\")"
      ],
      "metadata": {
        "id": "HEEbfROL2aeb"
      },
      "execution_count": null,
      "outputs": []
    },
    {
      "cell_type": "code",
      "source": [
        "# Rename columns\n",
        "heart_data.columns = ['age', 'gender', 'chest_pain_type', 'resting_bp_s', 'cholesterol','fasting_blood_sugar', 'resting_ecg', 'max_heart_rate','exercise_angina', 'oldpeak', 'st_slope','target']"
      ],
      "metadata": {
        "id": "txxyyzyC2caU"
      },
      "execution_count": null,
      "outputs": []
    },
    {
      "cell_type": "code",
      "source": [
        "# Check for missing values\n",
        "missing_values = heart_data.isnull().sum()"
      ],
      "metadata": {
        "id": "tHbmvsQB2iDK"
      },
      "execution_count": null,
      "outputs": []
    },
    {
      "cell_type": "code",
      "source": [
        "# Display the shape of the dataset\n",
        "dataset_shape = heart_data.shape"
      ],
      "metadata": {
        "id": "BQH8Uq7g2j5f"
      },
      "execution_count": null,
      "outputs": []
    },
    {
      "cell_type": "code",
      "source": [
        "# Define feature and target variables\n",
        "features = ['age', 'gender', 'chest_pain_type', 'resting_bp_s', 'cholesterol','fasting_blood_sugar', 'resting_ecg', 'max_heart_rate','exercise_angina', 'oldpeak', 'st_slope']\n",
        "target = ['target']"
      ],
      "metadata": {
        "id": "u4Yqb-iC2ngk"
      },
      "execution_count": null,
      "outputs": []
    },
    {
      "cell_type": "code",
      "source": [
        "# Categorize features\n",
        "nominal_features=['gender', 'chest_pain_type', 'fasting_blood_sugar', 'resting_ecg', 'exercise_angina', 'st_slope', 'target']\n",
        "nominal_features = ['chest_pain_type', 'resting_ecg', 'st_slope']\n",
        "categorical_features = ['gender', 'fasting_blood_sugar', 'exercise_angina']\n",
        "numeric_features = ['age', 'resting_bp_s', 'cholesterol', 'max_heart_rate', 'oldpeak']"
      ],
      "metadata": {
        "id": "k7GCxLUP2okl"
      },
      "execution_count": null,
      "outputs": []
    },
    {
      "cell_type": "code",
      "source": [
        "# Dictionary to store p-values\n",
        "p_values_dict = {}"
      ],
      "metadata": {
        "id": "aoJueTMS2sNO"
      },
      "execution_count": null,
      "outputs": []
    },
    {
      "cell_type": "code",
      "source": [
        "\n",
        "# Function for Mann-Whitney U test\n",
        "def mann_whitney_u_test(sample1, sample2):\n",
        "    n1 = len(sample1)\n",
        "    n2 = len(sample2)\n",
        "\n",
        "    # Combine the samples and assign ranks\n",
        "    combined = np.concatenate([sample1, sample2])\n",
        "    ranks = np.argsort(combined)\n",
        "\n",
        "    # Calculate U statistic\n",
        "    u1 = np.sum(ranks[:n1])\n",
        "    u2 = n1 * (n1 + n2 + 1) - u1\n",
        "    u = min(u1, u2)\n",
        "\n",
        "    # Calculate expected U under the null hypothesis\n",
        "    expected_u = n1 * n2 / 2\n",
        "\n",
        "    # Calculate variance of U\n",
        "    var_u = n1 * n2 * (n1 + n2 + 1) / 12\n",
        "\n",
        "    # Calculate z-score\n",
        "    z = (u - expected_u) / np.sqrt(var_u)\n",
        "\n",
        "    # Calculate two-tailed p-value without using norm.cdf\n",
        "    p_value = 2 * erfc(np.abs(z) / np.sqrt(2))\n",
        "\n",
        "    return u, p_value"
      ],
      "metadata": {
        "id": "IcIK7Pca2ulk"
      },
      "execution_count": null,
      "outputs": []
    },
    {
      "cell_type": "code",
      "source": [
        "# Function for chi-square test\n",
        "def chi_square_test(observed, num_simulations=10000):\n",
        "    observed = np.array(observed)\n",
        "\n",
        "    # Calculate expected frequencies under independence assumption\n",
        "    row_totals = np.sum(observed, axis=1)\n",
        "    col_totals = np.sum(observed, axis=0)\n",
        "    total = np.sum(observed)\n",
        "\n",
        "    expected = np.outer(row_totals, col_totals) / total\n",
        "\n",
        "    # Calculate chi-square statistic\n",
        "    chi2_statistic = np.sum((observed - expected)**2 / expected)\n",
        "\n",
        "    # Calculate degrees of freedom\n",
        "    df = (observed.shape[0] - 1) * (observed.shape[1] - 1)\n",
        "\n",
        "    # Simulate null hypothesis distribution\n",
        "    null_distribution = np.zeros(num_simulations)\n",
        "    for i in range(num_simulations):\n",
        "        simulated_row_totals = np.random.multinomial(total, row_totals / total)\n",
        "        simulated_col_totals = np.random.multinomial(total, col_totals / total)\n",
        "\n",
        "        simulated_data = np.outer(simulated_row_totals, simulated_col_totals) / total\n",
        "\n",
        "        null_distribution[i] = np.sum((simulated_data - expected)**2 / expected)\n",
        "\n",
        "    # Calculate empirical p-value\n",
        "    p_value = 2 * (1 - np.sum(null_distribution > chi2_statistic) / num_simulations)\n",
        "\n",
        "    return chi2_statistic, df, p_value\n"
      ],
      "metadata": {
        "id": "aqAmflxa2x8k"
      },
      "execution_count": null,
      "outputs": []
    },
    {
      "cell_type": "code",
      "source": [
        "# Perform statistical tests for each variable\n",
        "for feature in features:\n",
        "    if feature in numeric_features:\n",
        "        # Perform Mann-Whitney U test for continuous variable\n",
        "        u_statistic, mw_p_value = mann_whitney_u_test(heart_data[heart_data['target'] == 0][feature], heart_data[heart_data['target'] == 1][feature])\n",
        "        p_values_dict[feature] = mw_p_value\n",
        "    elif feature in nominal_features + categorical_features:\n",
        "        # Perform Chi-square test for nominal and categorical variable\n",
        "        contingency_table = pd.crosstab(heart_data[feature], heart_data['target'])\n",
        "        chi2_stat, chi2_df, chi2_p_value = chi_square_test(contingency_table)\n",
        "        p_values_dict[feature] = chi2_p_value"
      ],
      "metadata": {
        "id": "5-bgr1v020YS"
      },
      "execution_count": null,
      "outputs": []
    },
    {
      "cell_type": "code",
      "source": [
        "# Sort p-values in ascending order\n",
        "sorted_p_values = sorted(p_values_dict.items(), key=lambda x: x[1])"
      ],
      "metadata": {
        "id": "Tzk5Q92e23Au"
      },
      "execution_count": null,
      "outputs": []
    },
    {
      "cell_type": "code",
      "source": [
        "\n",
        "\n",
        "\n",
        "\n",
        "# Display the three most significant independent attributes\n",
        "for feature, p_value in sorted_p_values[:3]:\n",
        "    print(f\"{feature}: p-value = {p_value}\")"
      ],
      "metadata": {
        "colab": {
          "base_uri": "https://localhost:8080/"
        },
        "id": "ixzHIOX525Fn",
        "outputId": "4fcabd35-2d29-495a-c99e-141aff005cc9"
      },
      "execution_count": null,
      "outputs": [
        {
          "output_type": "stream",
          "name": "stdout",
          "text": [
            "resting_bp_s: p-value = 5.2031730724787486e-145\n",
            "cholesterol: p-value = 2.872275326406404e-131\n",
            "max_heart_rate: p-value = 2.9746049597922405e-90\n"
          ]
        }
      ]
    }
  ]
}